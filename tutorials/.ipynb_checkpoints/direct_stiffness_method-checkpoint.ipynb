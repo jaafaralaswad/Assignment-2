{
 "cells": [
  {
   "cell_type": "markdown",
   "id": "3833bc8c-7bd5-4948-8602-68a4e77ec21b",
   "metadata": {},
   "source": [
    "# Direct Stiffness Method"
   ]
  },
  {
   "cell_type": "markdown",
   "id": "1e588545-792e-4231-b935-1fcd5de6b3e0",
   "metadata": {},
   "source": [
    "The direct stiffness method is a displacement-based structural analysis method; that is, the primary unkowns are displacement-like quantities i.e. translations and rotations. Force-like quantities are obtained in post-processing. For a linear problem, this method results in a system of linear algebraic equations."
   ]
  },
  {
   "cell_type": "markdown",
   "id": "18bf2e02-0cab-4b8f-a591-4944920cd474",
   "metadata": {},
   "source": [
    "## Example Problem 1: Frame with rectangular cross-sections"
   ]
  },
  {
   "cell_type": "markdown",
   "id": "073d8aa1-06e8-40fd-aae3-7971d04681a1",
   "metadata": {},
   "source": [
    "In the cell below, you import the solver to this notebook, and initiate the process of defining all the relevant geometric and material properties of the structure."
   ]
  },
  {
   "cell_type": "code",
   "execution_count": 1,
   "id": "16c3b2fa-afb9-40f9-9175-965d40499a01",
   "metadata": {},
   "outputs": [],
   "source": [
    "# --- Import the solver from /src directiory (Don't touch!) ---\n",
    "import sys\n",
    "import os\n",
    "project_path = os.path.abspath(os.path.join(os.getcwd(), \"..\"))\n",
    "sys.path.append(os.path.join(project_path, \"src\"))\n",
    "from direct_stiffness_method.direct_stiffness_method import Structure, BoundaryConditions, Solver, PostProcessing\n",
    "\n",
    "import numpy as np\n",
    "\n",
    "# Define nodes and their coordinates [#, x, y, z]\n",
    "nodes = {\n",
    "    0: [0, 0.0, 0.0, 10.0],\n",
    "    1: [1, 15.0, 0.0, 10.0],\n",
    "    2: [2, 15.0, 0.0, 0.0]\n",
    "}\n",
    "\n",
    "# Define the connectivity [node i, node j]\n",
    "elements = [\n",
    "    [0, 1],\n",
    "    [1, 2]\n",
    "]\n",
    "\n",
    "# Elements properties\n",
    "element_properties = {\n",
    "    0: {\"b\": 0.5, \"h\": 1.0, \"E\": 1000, \"nu\": 0.3},\n",
    "    \n",
    "    1: {\"b\": 1.0, \"h\": 0.5, \"E\": 1000, \"nu\": 0.3}\n",
    "}\n",
    "\n",
    "\n",
    "# Run class\n",
    "structure = Structure(nodes, elements, element_properties)"
   ]
  },
  {
   "cell_type": "markdown",
   "id": "60ae241c-7007-427e-9423-ac5bd793d4e5",
   "metadata": {},
   "source": [
    "In the cell below, you get a summary for the properties you entered."
   ]
  },
  {
   "cell_type": "code",
   "execution_count": 4,
   "id": "24489803-2424-4a95-975d-597a31577e10",
   "metadata": {},
   "outputs": [
    {
     "name": "stdout",
     "output_type": "stream",
     "text": [
      "--- Structure Summary ---\n",
      "Number of Elements: 2\n",
      "Elasticity Modulus (E):\n",
      "  Element 0: 1000\n",
      "  Element 1: 1000\n",
      "\n",
      "Poisson's Ratio (nu):\n",
      "  Element 0: 0.3\n",
      "  Element 1: 0.3\n",
      "\n",
      "--- Element Properties ---\n",
      "Element 1:\n",
      "  Length: 15.0000\n",
      "  Area (A): 0.5000\n",
      "  Moment of Inertia Iy: 0.0104\n",
      "  Moment of Inertia Iz: 0.0417\n",
      "  Polar Moment of Inertia J: 0.0521\n",
      "  Node 1: (0.0, 0.0, 10.0), Node 2: (15.0, 0.0, 10.0)\n",
      "\n",
      "Element 2:\n",
      "  Length: 10.0000\n",
      "  Area (A): 0.5000\n",
      "  Moment of Inertia Iy: 0.0417\n",
      "  Moment of Inertia Iz: 0.0104\n",
      "  Polar Moment of Inertia J: 0.0521\n",
      "  Node 1: (15.0, 0.0, 10.0), Node 2: (15.0, 0.0, 0.0)\n",
      "\n",
      "--- Connectivity Matrix ---\n",
      "Element 1: [0 1]\n",
      "Element 2: [1 2]\n",
      "\n",
      "Global Node Numbering:\n",
      "Global Node 0: Coordinates (0.0, 0.0, 10.0)\n",
      "Global Node 1: Coordinates (15.0, 0.0, 10.0)\n",
      "Global Node 2: Coordinates (15.0, 0.0, 0.0)\n",
      "\n",
      "* * * * * * * * * *\n"
     ]
    }
   ],
   "source": [
    "# Display summary for the geometric and material properties per element\n",
    "structure.display_summary()"
   ]
  },
  {
   "cell_type": "markdown",
   "id": "155b09fe-819d-4bda-b8f3-bd26056f2cee",
   "metadata": {},
   "source": [
    "In the below cell, you define the loads and the boundary conditions."
   ]
  },
  {
   "cell_type": "code",
   "execution_count": 7,
   "id": "05e1954b-96f9-4988-aafd-afe237d95bee",
   "metadata": {},
   "outputs": [],
   "source": [
    "# Define externally applied loads [#, Fx, Fy, Fz, Mx, My, Mz]\n",
    "\n",
    "loads = {\n",
    "    0: [0, 0.0, 0.0, 0.0, 0.0, 0.0, 0.0],\n",
    "    1: [1, 0.1, 0.05, -0.07, 0.05, -0.1, 0.25],\n",
    "    2: [2, 0.0, 0.0, 0.0, 0.0, 0.0, 0.0]\n",
    "}\n",
    "\n",
    "# Define supports [#, ux, uy, uz, theta_x, theta_y, theta_z]\n",
    "# 1 means constrained dof\n",
    "# 0 means free dof\n",
    "\n",
    "supports = {\n",
    "    0: [0, 1, 1, 1, 1, 1, 1],\n",
    "    1: [1, 0, 0, 0, 0, 0, 0],\n",
    "    2: [2, 1, 1, 1, 0, 0, 0]\n",
    "}\n",
    "\n",
    "bc = BoundaryConditions(loads, supports)"
   ]
  },
  {
   "cell_type": "code",
   "execution_count": 9,
   "id": "b6b35f64-1a8f-4011-b3a3-e5e0658f0296",
   "metadata": {},
   "outputs": [
    {
     "name": "stdout",
     "output_type": "stream",
     "text": [
      "\n",
      "--- External Load Vector ---\n",
      "[[ 0.  ]\n",
      " [ 0.  ]\n",
      " [ 0.  ]\n",
      " [ 0.  ]\n",
      " [ 0.  ]\n",
      " [ 0.  ]\n",
      " [ 0.1 ]\n",
      " [ 0.05]\n",
      " [-0.07]\n",
      " [ 0.05]\n",
      " [-0.1 ]\n",
      " [ 0.25]\n",
      " [ 0.  ]\n",
      " [ 0.  ]\n",
      " [ 0.  ]\n",
      " [ 0.  ]\n",
      " [ 0.  ]\n",
      " [ 0.  ]]\n",
      "\n",
      "--- Boundary Conditions ---\n",
      "Node 0: Constraints [1, 1, 1, 1, 1, 1]\n",
      "Node 1: Constraints [0, 0, 0, 0, 0, 0]\n",
      "Node 2: Constraints [1, 1, 1, 0, 0, 0]\n"
     ]
    }
   ],
   "source": [
    "# Compute and print the external load vector\n",
    "bc.compute_global_load_vector()\n",
    "bc.print_global_load_vector()\n",
    "\n",
    "# Summarize and print boundary conditions\n",
    "bc.summarize_boundary_conditions()"
   ]
  },
  {
   "cell_type": "markdown",
   "id": "36593aec-8c78-472b-8d3b-06c000a2c343",
   "metadata": {},
   "source": [
    "Now, in the below cell, the geometric boundary conditions are applied, then the problem is solved."
   ]
  },
  {
   "cell_type": "code",
   "execution_count": 12,
   "id": "1d5207c0-d072-4efd-a2b4-d0ef18cce184",
   "metadata": {},
   "outputs": [
    {
     "name": "stdout",
     "output_type": "stream",
     "text": [
      "\n",
      "--- Computed Displacements ---\n",
      "[[ 0.00000000e+00]\n",
      " [ 0.00000000e+00]\n",
      " [ 0.00000000e+00]\n",
      " [ 0.00000000e+00]\n",
      " [ 0.00000000e+00]\n",
      " [ 0.00000000e+00]\n",
      " [ 2.84049953e-03]\n",
      " [ 1.43541318e+00]\n",
      " [-1.30609178e-03]\n",
      " [-1.26072079e-01]\n",
      " [-1.67293339e-02]\n",
      " [ 1.66041318e-01]\n",
      " [ 0.00000000e+00]\n",
      " [ 0.00000000e+00]\n",
      " [ 0.00000000e+00]\n",
      " [-1.52275937e-01]\n",
      " [ 8.79074190e-03]\n",
      " [ 1.66041318e-01]]\n",
      "\n",
      "--- Computed Reactions ---\n",
      "[[-0.09468332]\n",
      " [-0.02816345]\n",
      " [ 0.00469541]\n",
      " [ 0.16836549]\n",
      " [-0.02359799]\n",
      " [-0.67245177]\n",
      " [ 0.        ]\n",
      " [ 0.        ]\n",
      " [ 0.        ]\n",
      " [ 0.        ]\n",
      " [ 0.        ]\n",
      " [ 0.        ]\n",
      " [-0.00531668]\n",
      " [-0.02183655]\n",
      " [ 0.06530459]\n",
      " [ 0.        ]\n",
      " [ 0.        ]\n",
      " [ 0.        ]]\n"
     ]
    }
   ],
   "source": [
    "solver = Solver(structure, bc)\n",
    "U_global = solver.solve()\n",
    "R_global = solver.compute_reactions(U_global)"
   ]
  },
  {
   "cell_type": "code",
   "execution_count": 14,
   "id": "ff5c0ea7-ab72-4878-b224-8e4628a4310e",
   "metadata": {},
   "outputs": [
    {
     "ename": "NameError",
     "evalue": "name 'displacements' is not defined",
     "output_type": "error",
     "traceback": [
      "\u001b[0;31m---------------------------------------------------------------------------\u001b[0m",
      "\u001b[0;31mNameError\u001b[0m                                 Traceback (most recent call last)",
      "Cell \u001b[0;32mIn[14], line 2\u001b[0m\n\u001b[1;32m      1\u001b[0m \u001b[38;5;66;03m# Create post-processing object\u001b[39;00m\n\u001b[0;32m----> 2\u001b[0m post_processor \u001b[38;5;241m=\u001b[39m PostProcessing(structure, displacements)\n\u001b[1;32m      4\u001b[0m \u001b[38;5;66;03m# Compute internal forces\u001b[39;00m\n\u001b[1;32m      5\u001b[0m post_processor\u001b[38;5;241m.\u001b[39mcompute_internal_forces()\n",
      "\u001b[0;31mNameError\u001b[0m: name 'displacements' is not defined"
     ]
    }
   ],
   "source": [
    "# Create post-processing object\n",
    "post_processor = PostProcessing(structure, displacements)\n",
    "\n",
    "# Compute internal forces\n",
    "post_processor.compute_internal_forces()\n",
    "\n",
    "# Print internal forces\n",
    "internal_forces = post_processor.get_internal_forces()\n",
    "print(internal_forces)"
   ]
  },
  {
   "cell_type": "markdown",
   "id": "706e35d5-eb5a-4770-89a1-4cb342f83a5e",
   "metadata": {},
   "source": [
    "## Example Problem 2: Frame with circular cross-sections"
   ]
  },
  {
   "cell_type": "markdown",
   "id": "093ecf20-e533-49dc-95e2-55b596a8f96c",
   "metadata": {},
   "source": [
    "In the cell below, you import the solver to this notebook, and initiate the process of defining all the relevant geometric and material properties of the structure."
   ]
  },
  {
   "cell_type": "code",
   "execution_count": 18,
   "id": "45650416-e0c9-4490-856a-ec1f2559b68f",
   "metadata": {},
   "outputs": [],
   "source": [
    "# --- Import the solver from /src directiory (Don't touch!) ---\n",
    "import sys\n",
    "import os\n",
    "project_path = os.path.abspath(os.path.join(os.getcwd(), \"..\"))\n",
    "sys.path.append(os.path.join(project_path, \"src\"))\n",
    "from direct_stiffness_method.direct_stiffness_method import Structure, BoundaryConditions, Solver\n",
    "\n",
    "import numpy as np\n",
    "\n",
    "# Define nodes and their coordinates [#, x, y, z]\n",
    "nodes = {\n",
    "    0: [0, 0.0, 0.0, 0.0],\n",
    "    1: [1, -5.0, 1.0, 10.0],\n",
    "    2: [2, -1.0, 5.0, 13.0],\n",
    "    3: [1, -3.0, 7.0, 11.0],\n",
    "    4: [1, 6.0, 9.0, 5.0]\n",
    "}\n",
    "\n",
    "# Define the connectivity [node i, node j]\n",
    "elements = [\n",
    "    [0, 1],\n",
    "    [1, 2],\n",
    "    [2, 3],\n",
    "    [2, 4]\n",
    "]\n",
    "\n",
    "# Elements properties\n",
    "element_properties = {\n",
    "    0: {\"r\": 1.0, \"E\": 500, \"nu\": 0.3},\n",
    "    \n",
    "    1: {\"r\": 1.0, \"E\": 500, \"nu\": 0.3},\n",
    "\n",
    "    2: {\"r\": 1.0, \"E\": 500, \"nu\": 0.3},\n",
    "    \n",
    "    3: {\"r\": 1.0, \"E\": 500, \"nu\": 0.3},\n",
    "\n",
    "}\n",
    "\n",
    "# Run class\n",
    "structure = Structure(nodes, elements, element_properties)"
   ]
  },
  {
   "cell_type": "markdown",
   "id": "a4eab39d-8278-440d-9c60-11d89487ba2d",
   "metadata": {},
   "source": [
    "In the cell below, you get a summary for the properties you entered."
   ]
  },
  {
   "cell_type": "code",
   "execution_count": 21,
   "id": "91e35a98-76a0-4fbc-87e4-ab56c649080e",
   "metadata": {},
   "outputs": [
    {
     "name": "stdout",
     "output_type": "stream",
     "text": [
      "--- Structure Summary ---\n",
      "Number of Elements: 4\n",
      "Elasticity Modulus (E):\n",
      "  Element 0: 500\n",
      "  Element 1: 500\n",
      "  Element 2: 500\n",
      "  Element 3: 500\n",
      "\n",
      "Poisson's Ratio (nu):\n",
      "  Element 0: 0.3\n",
      "  Element 1: 0.3\n",
      "  Element 2: 0.3\n",
      "  Element 3: 0.3\n",
      "\n",
      "--- Element Properties ---\n",
      "Element 1:\n",
      "  Length: 11.2250\n",
      "  Area (A): 3.1416\n",
      "  Moment of Inertia Iy: 0.7854\n",
      "  Moment of Inertia Iz: 0.7854\n",
      "  Polar Moment of Inertia J: 1.5708\n",
      "  Node 1: (0.0, 0.0, 0.0), Node 2: (-5.0, 1.0, 10.0)\n",
      "\n",
      "Element 2:\n",
      "  Length: 6.4031\n",
      "  Area (A): 3.1416\n",
      "  Moment of Inertia Iy: 0.7854\n",
      "  Moment of Inertia Iz: 0.7854\n",
      "  Polar Moment of Inertia J: 1.5708\n",
      "  Node 1: (-5.0, 1.0, 10.0), Node 2: (-1.0, 5.0, 13.0)\n",
      "\n",
      "Element 3:\n",
      "  Length: 3.4641\n",
      "  Area (A): 3.1416\n",
      "  Moment of Inertia Iy: 0.7854\n",
      "  Moment of Inertia Iz: 0.7854\n",
      "  Polar Moment of Inertia J: 1.5708\n",
      "  Node 1: (-1.0, 5.0, 13.0), Node 2: (-3.0, 7.0, 11.0)\n",
      "\n",
      "Element 4:\n",
      "  Length: 11.3578\n",
      "  Area (A): 3.1416\n",
      "  Moment of Inertia Iy: 0.7854\n",
      "  Moment of Inertia Iz: 0.7854\n",
      "  Polar Moment of Inertia J: 1.5708\n",
      "  Node 1: (-1.0, 5.0, 13.0), Node 2: (6.0, 9.0, 5.0)\n",
      "\n",
      "--- Connectivity Matrix ---\n",
      "Element 1: [0 1]\n",
      "Element 2: [1 2]\n",
      "Element 3: [2 3]\n",
      "Element 4: [2 4]\n",
      "\n",
      "Global Node Numbering:\n",
      "Global Node 0: Coordinates (0.0, 0.0, 0.0)\n",
      "Global Node 1: Coordinates (-5.0, 1.0, 10.0)\n",
      "Global Node 2: Coordinates (-1.0, 5.0, 13.0)\n",
      "Global Node 3: Coordinates (-3.0, 7.0, 11.0)\n",
      "Global Node 4: Coordinates (6.0, 9.0, 5.0)\n",
      "\n",
      "* * * * * * * * * *\n"
     ]
    }
   ],
   "source": [
    "# Display summary for the geometric and material properties per element\n",
    "structure.display_summary()"
   ]
  },
  {
   "cell_type": "markdown",
   "id": "95d3ac8d-fbbc-44cc-998c-e5a8da48446e",
   "metadata": {},
   "source": [
    "In the below cell, you define the loads and the boundary conditions."
   ]
  },
  {
   "cell_type": "code",
   "execution_count": 24,
   "id": "221e6538-2778-4397-9bd4-11a070e999f6",
   "metadata": {},
   "outputs": [],
   "source": [
    "# Define externally applied loads [#, Fx, Fy, Fz, Mx, My, Mz]\n",
    "\n",
    "loads = {\n",
    "    0: [0, 0.0, 0.0, 0.0, 0.0, 0.0, 0.0],\n",
    "    1: [1, 0.1, -0.05, -0.075, 0.0, 0.0, 0.0],\n",
    "    2: [2, 0.0, 0.0, 0.0, 0.5, -0.1, 0.3],\n",
    "    3: [3, 0.0, 0.0, 0.0, 0.0, 0.0, 0.0],\n",
    "    4: [4, 0.0, 0.0, 0.0, 0.0, 0.0, 0.0]\n",
    "}\n",
    "\n",
    "# Define supports [#, ux, uy, uz, theta_x, theta_y, theta_z]\n",
    "# 1 means constrained dof\n",
    "# 0 means free dof\n",
    "\n",
    "supports = {\n",
    "    0: [0, 0, 0, 1, 0, 0, 0],\n",
    "    1: [1, 0, 0, 0, 0, 0, 0],\n",
    "    2: [2, 0, 0, 0, 0, 0, 0],\n",
    "    3: [2, 1, 1, 1, 1, 1, 1],\n",
    "    4: [2, 1, 1, 1, 0, 0, 0]    \n",
    "}\n",
    "\n",
    "bc = BoundaryConditions(loads, supports)"
   ]
  },
  {
   "cell_type": "code",
   "execution_count": 26,
   "id": "529c9580-6049-42e4-beba-4b1faee96674",
   "metadata": {},
   "outputs": [
    {
     "name": "stdout",
     "output_type": "stream",
     "text": [
      "\n",
      "--- External Load Vector ---\n",
      "[[ 0.   ]\n",
      " [ 0.   ]\n",
      " [ 0.   ]\n",
      " [ 0.   ]\n",
      " [ 0.   ]\n",
      " [ 0.   ]\n",
      " [ 0.1  ]\n",
      " [-0.05 ]\n",
      " [-0.075]\n",
      " [ 0.   ]\n",
      " [ 0.   ]\n",
      " [ 0.   ]\n",
      " [ 0.   ]\n",
      " [ 0.   ]\n",
      " [ 0.   ]\n",
      " [ 0.5  ]\n",
      " [-0.1  ]\n",
      " [ 0.3  ]\n",
      " [ 0.   ]\n",
      " [ 0.   ]\n",
      " [ 0.   ]\n",
      " [ 0.   ]\n",
      " [ 0.   ]\n",
      " [ 0.   ]\n",
      " [ 0.   ]\n",
      " [ 0.   ]\n",
      " [ 0.   ]\n",
      " [ 0.   ]\n",
      " [ 0.   ]\n",
      " [ 0.   ]]\n",
      "\n",
      "--- Boundary Conditions ---\n",
      "Node 0: Constraints [0, 0, 1, 0, 0, 0]\n",
      "Node 1: Constraints [0, 0, 0, 0, 0, 0]\n",
      "Node 2: Constraints [0, 0, 0, 0, 0, 0]\n",
      "Node 3: Constraints [1, 1, 1, 1, 1, 1]\n",
      "Node 4: Constraints [1, 1, 1, 0, 0, 0]\n"
     ]
    }
   ],
   "source": [
    "# Compute and print the external load vector\n",
    "bc.compute_global_load_vector()\n",
    "bc.print_global_load_vector()\n",
    "\n",
    "# Summarize and print boundary conditions\n",
    "bc.summarize_boundary_conditions()"
   ]
  },
  {
   "cell_type": "markdown",
   "id": "f847ce25-4525-43d2-bbd9-5066d98e5fa8",
   "metadata": {},
   "source": [
    "Now, in the below cell, the geometric boundary conditions are applied, then the problem is solved."
   ]
  },
  {
   "cell_type": "code",
   "execution_count": 29,
   "id": "2a7f26b5-109e-4ba2-a421-923bb63ba3d2",
   "metadata": {},
   "outputs": [
    {
     "name": "stdout",
     "output_type": "stream",
     "text": [
      "\n",
      "--- Computed Displacements ---\n",
      "[[ 0.16297422]\n",
      " [ 0.06753731]\n",
      " [ 0.        ]\n",
      " [ 0.0038603 ]\n",
      " [-0.00977672]\n",
      " [ 0.00997704]\n",
      " [ 0.05683823]\n",
      " [-0.02127261]\n",
      " [-0.04423469]\n",
      " [ 0.00395566]\n",
      " [-0.00929992]\n",
      " [ 0.00997704]\n",
      " [ 0.00104443]\n",
      " [ 0.00109052]\n",
      " [ 0.00034632]\n",
      " [ 0.00313556]\n",
      " [-0.0040055 ]\n",
      " [ 0.00514273]\n",
      " [ 0.        ]\n",
      " [ 0.        ]\n",
      " [ 0.        ]\n",
      " [ 0.        ]\n",
      " [ 0.        ]\n",
      " [ 0.        ]\n",
      " [ 0.        ]\n",
      " [ 0.        ]\n",
      " [ 0.        ]\n",
      " [-0.00455166]\n",
      " [ 0.00049019]\n",
      " [ 0.00066426]]\n",
      "\n",
      "--- Computed Reactions ---\n",
      "[[ 0.        ]\n",
      " [ 0.        ]\n",
      " [ 0.0066722 ]\n",
      " [ 0.        ]\n",
      " [ 0.        ]\n",
      " [ 0.        ]\n",
      " [ 0.        ]\n",
      " [ 0.        ]\n",
      " [ 0.        ]\n",
      " [ 0.        ]\n",
      " [ 0.        ]\n",
      " [ 0.        ]\n",
      " [ 0.        ]\n",
      " [ 0.        ]\n",
      " [ 0.        ]\n",
      " [ 0.        ]\n",
      " [ 0.        ]\n",
      " [ 0.        ]\n",
      " [-0.02351271]\n",
      " [ 0.13794825]\n",
      " [ 0.02532498]\n",
      " [-0.41161075]\n",
      " [ 0.29811823]\n",
      " [-0.36144034]\n",
      " [-0.07648729]\n",
      " [-0.08794825]\n",
      " [ 0.04300282]\n",
      " [ 0.        ]\n",
      " [ 0.        ]\n",
      " [ 0.        ]]\n"
     ]
    }
   ],
   "source": [
    "solver = Solver(structure, bc)\n",
    "U_global = solver.solve()\n",
    "R_global = solver.compute_reactions(U_global)"
   ]
  }
 ],
 "metadata": {
  "kernelspec": {
   "display_name": "Python [conda env:base] *",
   "language": "python",
   "name": "conda-base-py"
  },
  "language_info": {
   "codemirror_mode": {
    "name": "ipython",
    "version": 3
   },
   "file_extension": ".py",
   "mimetype": "text/x-python",
   "name": "python",
   "nbconvert_exporter": "python",
   "pygments_lexer": "ipython3",
   "version": "3.12.7"
  }
 },
 "nbformat": 4,
 "nbformat_minor": 5
}
