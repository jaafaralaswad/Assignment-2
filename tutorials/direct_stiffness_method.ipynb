{
 "cells": [
  {
   "cell_type": "markdown",
   "id": "3833bc8c-7bd5-4948-8602-68a4e77ec21b",
   "metadata": {},
   "source": [
    "# Direct Stiffness Method"
   ]
  },
  {
   "cell_type": "markdown",
   "id": "1e588545-792e-4231-b935-1fcd5de6b3e0",
   "metadata": {},
   "source": [
    "The direct stiffness method is a displacement-based structural analysis method; that is, the primary unkowns are displacement-like quantities i.e. translations and rotations. Force-like quantities are obtained in post-processing. For a linear problem, this method results in a system of linear algebraic equations."
   ]
  },
  {
   "cell_type": "markdown",
   "id": "18bf2e02-0cab-4b8f-a591-4944920cd474",
   "metadata": {},
   "source": [
    "## Example Problem 1"
   ]
  },
  {
   "cell_type": "markdown",
   "id": "073d8aa1-06e8-40fd-aae3-7971d04681a1",
   "metadata": {},
   "source": [
    "In the cell below, you import the solver to this notebook, and initiate the process of defining all the relevant geometric and material properties of the structure."
   ]
  },
  {
   "cell_type": "code",
   "execution_count": 1,
   "id": "16c3b2fa-afb9-40f9-9175-965d40499a01",
   "metadata": {},
   "outputs": [],
   "source": [
    "# --- Import the solver from /src directiory (Don't touch!) ---\n",
    "import sys\n",
    "import os\n",
    "project_path = os.path.abspath(os.path.join(os.getcwd(), \"..\"))\n",
    "sys.path.append(os.path.join(project_path, \"src\"))\n",
    "from direct_stiffness_method.direct_stiffness_method import Structure, BoundaryConditions, Solver\n",
    "\n",
    "import numpy as np\n",
    "\n",
    "# Elements properties\n",
    "b = 0.5\n",
    "h = 1.0\n",
    "E = 1000\n",
    "nu = 0.3\n",
    "A = b*h\n",
    "Iy = h*b**3/2\n",
    "Iz = b*h**3/12\n",
    "J = 0.02861\n",
    "\n",
    "# Define nodes and their coordinates [#, x, y, z]\n",
    "nodes = {\n",
    "    0: [0, 0.0, 0.0, 10.0],\n",
    "    1: [1, 15.0, 0.0, 10.0],\n",
    "    2: [2, 15.0, 0.0, 0.0]\n",
    "}\n",
    "\n",
    "# Define the connectivity [node i, node j]\n",
    "elements = [\n",
    "    [0, 1],\n",
    "    [1, 2]\n",
    "]\n",
    "\n",
    "# Run class\n",
    "structure = Structure(nodes, elements, E, nu, A, Iy, Iz, J)"
   ]
  },
  {
   "cell_type": "markdown",
   "id": "60ae241c-7007-427e-9423-ac5bd793d4e5",
   "metadata": {},
   "source": [
    "In the cell below, you get a summary for the properties you entered."
   ]
  },
  {
   "cell_type": "code",
   "execution_count": 4,
   "id": "24489803-2424-4a95-975d-597a31577e10",
   "metadata": {},
   "outputs": [
    {
     "name": "stdout",
     "output_type": "stream",
     "text": [
      "--- Structure Summary ---\n",
      "Number of Elements: 2\n",
      "Elasticity Modulus (E): 1000\n",
      "Poisson's Ratio (nu): 0.3\n",
      "\n",
      "Element 1:\n",
      "Element Properties:\n",
      "Area: 0.5000, Length: 15.0000\n",
      "Iy: 0.0625, Iz: 0.0417, J: 0.0286\n",
      "Node 1: (0.0, 0.0, 10.0), Node 2: (15.0, 0.0, 10.0)\n",
      "\n",
      "Element 2:\n",
      "Element Properties:\n",
      "Area: 0.5000, Length: 10.0000\n",
      "Iy: 0.0625, Iz: 0.0417, J: 0.0286\n",
      "Node 1: (15.0, 0.0, 10.0), Node 2: (15.0, 0.0, 0.0)\n",
      "\n",
      "--- Connectivity Matrix ---\n",
      "Element 1: [0 1]\n",
      "Element 2: [1 2]\n",
      "\n",
      "Global Node Numbering:\n",
      "Global Node 0: Coordinates (0.0, 0.0, 10.0)\n",
      "Global Node 1: Coordinates (15.0, 0.0, 10.0)\n",
      "Global Node 2: Coordinates (15.0, 0.0, 0.0)\n",
      "\n",
      "* * * * * * * * * *\n"
     ]
    }
   ],
   "source": [
    "# Display summary for the geometric and material properties per element\n",
    "structure.display_summary()"
   ]
  },
  {
   "cell_type": "markdown",
   "id": "155b09fe-819d-4bda-b8f3-bd26056f2cee",
   "metadata": {},
   "source": [
    "In the below cell, you define the loads and the boundary conditions."
   ]
  },
  {
   "cell_type": "code",
   "execution_count": 7,
   "id": "05e1954b-96f9-4988-aafd-afe237d95bee",
   "metadata": {},
   "outputs": [],
   "source": [
    "# Define externally applied loads [#, Fx, Fy, Fz, Mx, My, Mz]\n",
    "\n",
    "loads = {\n",
    "    0: [0, 0.0, 0.0, 0.0, 0.0, 0.0, 0.0],\n",
    "    1: [1, 0.1, 0.05, -0.07, 0.05, -0.1, 0.25],\n",
    "    2: [2, 0.0, 0.0, 0.0, 0.0, 0.0, 0.0]\n",
    "}\n",
    "\n",
    "# Define supports [#, ux, uy, uz, theta_x, theta_y, theta_z]\n",
    "# 1 means constrained dof\n",
    "# 0 means free dof\n",
    "\n",
    "supports = {\n",
    "    0: [0, 1, 1, 1, 1, 1, 1],\n",
    "    1: [1, 0, 0, 0, 0, 0, 0],\n",
    "    2: [2, 1, 1, 1, 0, 0, 0]\n",
    "}\n",
    "\n",
    "bc = BoundaryConditions(loads, supports)"
   ]
  },
  {
   "cell_type": "code",
   "execution_count": 9,
   "id": "b6b35f64-1a8f-4011-b3a3-e5e0658f0296",
   "metadata": {},
   "outputs": [
    {
     "name": "stdout",
     "output_type": "stream",
     "text": [
      "\n",
      "--- External Load Vector ---\n",
      "[[ 0.  ]\n",
      " [ 0.  ]\n",
      " [ 0.  ]\n",
      " [ 0.  ]\n",
      " [ 0.  ]\n",
      " [ 0.  ]\n",
      " [ 0.1 ]\n",
      " [ 0.05]\n",
      " [-0.07]\n",
      " [ 0.05]\n",
      " [-0.1 ]\n",
      " [ 0.25]\n",
      " [ 0.  ]\n",
      " [ 0.  ]\n",
      " [ 0.  ]\n",
      " [ 0.  ]\n",
      " [ 0.  ]\n",
      " [ 0.  ]]\n",
      "\n",
      "--- Boundary Conditions ---\n",
      "Node 0: Constraints [1, 1, 1, 1, 1, 1]\n",
      "Node 1: Constraints [0, 0, 0, 0, 0, 0]\n",
      "Node 2: Constraints [1, 1, 1, 0, 0, 0]\n"
     ]
    }
   ],
   "source": [
    "# Compute and print the external load vector\n",
    "bc.compute_global_load_vector()\n",
    "\n",
    "# Summarize and print boundary conditions\n",
    "bc.summarize_boundary_conditions()"
   ]
  },
  {
   "cell_type": "markdown",
   "id": "36593aec-8c78-472b-8d3b-06c000a2c343",
   "metadata": {},
   "source": [
    "Now, in the below cell, the geometric boundary conditions are applied, then the problem is solved."
   ]
  },
  {
   "cell_type": "code",
   "execution_count": 14,
   "id": "d13dc0fa-479d-4324-b4dc-34c26a035151",
   "metadata": {},
   "outputs": [
    {
     "name": "stdout",
     "output_type": "stream",
     "text": [
      "\n",
      "--- External Load Vector ---\n",
      "[[ 0.  ]\n",
      " [ 0.  ]\n",
      " [ 0.  ]\n",
      " [ 0.  ]\n",
      " [ 0.  ]\n",
      " [ 0.  ]\n",
      " [ 0.1 ]\n",
      " [ 0.05]\n",
      " [-0.07]\n",
      " [ 0.05]\n",
      " [-0.1 ]\n",
      " [ 0.25]\n",
      " [ 0.  ]\n",
      " [ 0.  ]\n",
      " [ 0.  ]\n",
      " [ 0.  ]\n",
      " [ 0.  ]\n",
      " [ 0.  ]]\n",
      "\n",
      "--- Computed Displacements ---\n",
      "[[ 0.00000000e+00]\n",
      " [ 0.00000000e+00]\n",
      " [ 0.00000000e+00]\n",
      " [ 0.00000000e+00]\n",
      " [ 0.00000000e+00]\n",
      " [ 0.00000000e+00]\n",
      " [ 2.86803965e-03]\n",
      " [ 1.59168866e+00]\n",
      " [-1.28654407e-03]\n",
      " [-1.50609630e-01]\n",
      " [-3.23213864e-03]\n",
      " [ 1.81668866e-01]\n",
      " [ 0.00000000e+00]\n",
      " [ 0.00000000e+00]\n",
      " [ 0.00000000e+00]\n",
      " [-1.63448485e-01]\n",
      " [ 2.04627527e-03]\n",
      " [ 1.81668866e-01]]\n",
      "\n",
      "--- External Load Vector ---\n",
      "[[ 0.  ]\n",
      " [ 0.  ]\n",
      " [ 0.  ]\n",
      " [ 0.  ]\n",
      " [ 0.  ]\n",
      " [ 0.  ]\n",
      " [ 0.1 ]\n",
      " [ 0.05]\n",
      " [-0.07]\n",
      " [ 0.05]\n",
      " [-0.1 ]\n",
      " [ 0.25]\n",
      " [ 0.  ]\n",
      " [ 0.  ]\n",
      " [ 0.  ]\n",
      " [ 0.  ]\n",
      " [ 0.  ]\n",
      " [ 0.  ]]\n",
      "\n",
      "--- Computed Reactions ---\n",
      "[[-0.09560132]\n",
      " [-0.03395143]\n",
      " [ 0.0056728 ]\n",
      " [ 0.11048568]\n",
      " [-0.02907873]\n",
      " [-0.75927148]\n",
      " [ 0.        ]\n",
      " [ 0.        ]\n",
      " [ 0.        ]\n",
      " [ 0.        ]\n",
      " [ 0.        ]\n",
      " [ 0.        ]\n",
      " [-0.00439868]\n",
      " [-0.01604857]\n",
      " [ 0.0643272 ]\n",
      " [ 0.        ]\n",
      " [ 0.        ]\n",
      " [ 0.        ]]\n"
     ]
    }
   ],
   "source": [
    "solver = Solver(structure, bc)\n",
    "U_global = solver.solve()\n",
    "R_global = solver.compute_reactions(U_global)"
   ]
  },
  {
   "cell_type": "markdown",
   "id": "1d010cda-f320-43e5-9134-6fdcfde776b1",
   "metadata": {},
   "source": [
    "## Example Problem 2"
   ]
  },
  {
   "cell_type": "markdown",
   "id": "034388fe-a00f-4fe5-96a6-b07d526741f5",
   "metadata": {},
   "source": [
    "In the cell below, you import the solver to this notebook, and initiate the process of defining all the relevant geometric and material properties of the structure."
   ]
  },
  {
   "cell_type": "code",
   "execution_count": null,
   "id": "6a2f7961-6fd4-4b9a-b6e2-b752f81bfb1c",
   "metadata": {},
   "outputs": [],
   "source": []
  }
 ],
 "metadata": {
  "kernelspec": {
   "display_name": "Python [conda env:base] *",
   "language": "python",
   "name": "conda-base-py"
  },
  "language_info": {
   "codemirror_mode": {
    "name": "ipython",
    "version": 3
   },
   "file_extension": ".py",
   "mimetype": "text/x-python",
   "name": "python",
   "nbconvert_exporter": "python",
   "pygments_lexer": "ipython3",
   "version": "3.12.7"
  }
 },
 "nbformat": 4,
 "nbformat_minor": 5
}
