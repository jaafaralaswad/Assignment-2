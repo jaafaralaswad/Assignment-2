{
 "cells": [
  {
   "cell_type": "markdown",
   "id": "3833bc8c-7bd5-4948-8602-68a4e77ec21b",
   "metadata": {},
   "source": [
    "# Direct Stiffness Method"
   ]
  },
  {
   "cell_type": "markdown",
   "id": "1e588545-792e-4231-b935-1fcd5de6b3e0",
   "metadata": {},
   "source": [
    "The direct stiffness method is a displacement-based structural analysis method; that is, the primary unkowns are displacement-like quantities i.e. translations and rotations. Force-like quantities are obtained in post-processing. For a linear problem, this method results in a system of linear algebraic equations."
   ]
  },
  {
   "cell_type": "markdown",
   "id": "18bf2e02-0cab-4b8f-a591-4944920cd474",
   "metadata": {},
   "source": [
    "## Solving a Frame: The basic functionality is complete. Please see the below example before you implement your own."
   ]
  },
  {
   "cell_type": "markdown",
   "id": "073d8aa1-06e8-40fd-aae3-7971d04681a1",
   "metadata": {},
   "source": [
    "In the cell below, you import the solver to this notebook, and initiate the process of defining all the relevant geometric and material properties of the structure."
   ]
  },
  {
   "cell_type": "code",
   "execution_count": 2,
   "id": "16c3b2fa-afb9-40f9-9175-965d40499a01",
   "metadata": {},
   "outputs": [
    {
     "name": "stdin",
     "output_type": "stream",
     "text": [
      "Enter Number of Elements:  3\n",
      "Enter Elasticity Modulus (E):  2000\n",
      "Enter Poisson's Ratio (nu):  0.3\n"
     ]
    },
    {
     "name": "stdout",
     "output_type": "stream",
     "text": [
      "\n",
      "--- Enter Section Properties for Element 1 ---\n"
     ]
    },
    {
     "name": "stdin",
     "output_type": "stream",
     "text": [
      "Enter Area (A):  4e3\n",
      "Enter 2nd Moment of Area about Local y-axis (Iy):  6e6\n",
      "Enter 2nd Moment of Area about Local z-axis (Iz):  6e6\n",
      "Enter Polar 2nd Moment of Area about Local x-axis (J):  6e6\n"
     ]
    },
    {
     "name": "stdout",
     "output_type": "stream",
     "text": [
      "\n",
      "--- Enter coordinates for nodes of Element 1 ---\n"
     ]
    },
    {
     "name": "stdin",
     "output_type": "stream",
     "text": [
      "Enter (x, y, z) Coordinates for Node 1 (comma-separated, no parentheses):  0,0,0\n",
      "Enter (x, y, z) Coordinates for Node 2 (comma-separated, no parentheses):  0,10,0\n"
     ]
    },
    {
     "name": "stdout",
     "output_type": "stream",
     "text": [
      "\n",
      "--- Enter Section Properties for Element 2 ---\n"
     ]
    },
    {
     "name": "stdin",
     "output_type": "stream",
     "text": [
      "Enter Area (A):  4e3\n",
      "Enter 2nd Moment of Area about Local y-axis (Iy):  6e6\n",
      "Enter 2nd Moment of Area about Local z-axis (Iz):  6e6\n",
      "Enter Polar 2nd Moment of Area about Local x-axis (J):  6e6\n"
     ]
    },
    {
     "name": "stdout",
     "output_type": "stream",
     "text": [
      "\n",
      "--- Enter coordinates for nodes of Element 2 ---\n"
     ]
    },
    {
     "name": "stdin",
     "output_type": "stream",
     "text": [
      "Enter (x, y, z) Coordinates for Node 1 (comma-separated, no parentheses):  0,10,0\n",
      "Enter (x, y, z) Coordinates for Node 2 (comma-separated, no parentheses):  10,10,0\n"
     ]
    },
    {
     "name": "stdout",
     "output_type": "stream",
     "text": [
      "\n",
      "--- Enter Section Properties for Element 3 ---\n"
     ]
    },
    {
     "name": "stdin",
     "output_type": "stream",
     "text": [
      "Enter Area (A):  4e3\n",
      "Enter 2nd Moment of Area about Local y-axis (Iy):  6e6\n",
      "Enter 2nd Moment of Area about Local z-axis (Iz):  6e6\n",
      "Enter Polar 2nd Moment of Area about Local x-axis (J):  6e6\n"
     ]
    },
    {
     "name": "stdout",
     "output_type": "stream",
     "text": [
      "\n",
      "--- Enter coordinates for nodes of Element 3 ---\n"
     ]
    },
    {
     "name": "stdin",
     "output_type": "stream",
     "text": [
      "Enter (x, y, z) Coordinates for Node 1 (comma-separated, no parentheses):  10,10,0\n",
      "Enter (x, y, z) Coordinates for Node 2 (comma-separated, no parentheses):  10,0,0\n"
     ]
    }
   ],
   "source": [
    "# --- Import the solver from /src directiory (Don't touch!) ---\n",
    "import sys\n",
    "import os\n",
    "project_path = os.path.abspath(os.path.join(os.getcwd(), \"..\"))\n",
    "sys.path.append(os.path.join(project_path, \"src\"))\n",
    "from direct_stiffness_method.direct_stiffness_method import Element, Structure, BoundaryConditions, Solver\n",
    "\n",
    "import numpy as np\n",
    "\n",
    "# Prompt user to input geometry and material properties\n",
    "structure = Structure()"
   ]
  },
  {
   "cell_type": "markdown",
   "id": "60ae241c-7007-427e-9423-ac5bd793d4e5",
   "metadata": {},
   "source": [
    "In the cell below, you get a summary for the properties you entered."
   ]
  },
  {
   "cell_type": "code",
   "execution_count": 4,
   "id": "24489803-2424-4a95-975d-597a31577e10",
   "metadata": {},
   "outputs": [
    {
     "name": "stdout",
     "output_type": "stream",
     "text": [
      "\n",
      "--- Structure Summary ---\n",
      "Number of Elements: 3\n",
      "Elasticity Modulus (E): 2000.0\n",
      "Poisson's Ratio (nu): 0.3\n",
      "\n",
      "Element 1:\n",
      "Element Properties:\n",
      "Area: 4000.0, Length: 10.0000\n",
      "Iy: 6000000.0, Iz: 6000000.0, J: 6000000.0\n",
      "Node 1: (0.0, 0.0, 0.0), Node 2: (0.0, 10.0, 0.0) \n",
      "\n",
      "Element 2:\n",
      "Element Properties:\n",
      "Area: 4000.0, Length: 10.0000\n",
      "Iy: 6000000.0, Iz: 6000000.0, J: 6000000.0\n",
      "Node 1: (0.0, 10.0, 0.0), Node 2: (10.0, 10.0, 0.0) \n",
      "\n",
      "Element 3:\n",
      "Element Properties:\n",
      "Area: 4000.0, Length: 10.0000\n",
      "Iy: 6000000.0, Iz: 6000000.0, J: 6000000.0\n",
      "Node 1: (10.0, 10.0, 0.0), Node 2: (10.0, 0.0, 0.0) \n",
      "\n"
     ]
    }
   ],
   "source": [
    "# Display summary for the geometric and material properties per element\n",
    "structure.display_structure()"
   ]
  },
  {
   "cell_type": "markdown",
   "id": "f17cc734-c341-476a-a0db-977ef18567a7",
   "metadata": {},
   "source": [
    "In the cell below, you get to display the connectivity matrix."
   ]
  },
  {
   "cell_type": "code",
   "execution_count": 6,
   "id": "4fe31921-704f-4f0c-a3a9-cf5134a6d8d0",
   "metadata": {},
   "outputs": [
    {
     "name": "stdout",
     "output_type": "stream",
     "text": [
      "\n",
      "--- Connectivity Matrix ---\n",
      "Element 1: [0 1]\n",
      "Element 2: [1 2]\n",
      "Element 3: [2 3]\n",
      "\n",
      "Global Node Numbering:\n",
      "Global Node 0: Coordinates (0.0, 0.0, 0.0)\n",
      "Global Node 1: Coordinates (0.0, 10.0, 0.0)\n",
      "Global Node 2: Coordinates (10.0, 10.0, 0.0)\n",
      "Global Node 3: Coordinates (10.0, 0.0, 0.0)\n"
     ]
    }
   ],
   "source": [
    "# Connectiveity matrix\n",
    "structure.display_connectivity_matrix()"
   ]
  },
  {
   "cell_type": "markdown",
   "id": "c5761ef5-d703-4713-90e6-85df71392597",
   "metadata": {},
   "source": [
    "In the cell below, you enter the number of global nodes that are loaded, then you enter their number, then you enter the loads acting on them. Similiarly, you enter the number of global nodes that are supported, then you enter their number, then you enter zero for the directions that are constrained, and any number for the directions that are not. For a calmped support, for example, you enter 0,0,0,0,0,0, because all directions are constrained."
   ]
  },
  {
   "cell_type": "code",
   "execution_count": 8,
   "id": "f060c87b-7455-483f-bf41-eb07dfaa5ed3",
   "metadata": {},
   "outputs": [
    {
     "name": "stdin",
     "output_type": "stream",
     "text": [
      "Enter the number of global nodes that are loaded:  2\n",
      "Enter global node number for load 1:  1\n",
      "Enter loads (Fx, Fy, Fz, Mx, My, Mz) as comma-separated values:  1000,1000,0,0,0,0\n",
      "Enter global node number for load 2:  2\n",
      "Enter loads (Fx, Fy, Fz, Mx, My, Mz) as comma-separated values:  1000,1000,0,0,0,0\n",
      "Enter the number of global nodes that are supported:  2\n",
      "Enter global node number for support 1:  0\n",
      "Enter restricted degrees of freedom (e.g., ux, uy, uz, theta_x, theta_y, theta_z) as comma-separated values:  0,0,0,0,0,0\n",
      "Enter global node number for support 2:  3\n",
      "Enter restricted degrees of freedom (e.g., ux, uy, uz, theta_x, theta_y, theta_z) as comma-separated values:  0,0,0,0,0,0\n"
     ]
    }
   ],
   "source": [
    "boundary_conditions = BoundaryConditions()\n",
    "\n",
    "# Perscribe loadings\n",
    "boundary_conditions.prescribe_loads()\n",
    "\n",
    "# Perscribe geometric boundary conditions\n",
    "boundary_conditions.prescribe_supports()"
   ]
  },
  {
   "cell_type": "markdown",
   "id": "c10d2874-201f-4550-aa02-186864493bc4",
   "metadata": {},
   "source": [
    "In the cell below, you get to display a summary of the boundary conditions."
   ]
  },
  {
   "cell_type": "code",
   "execution_count": 10,
   "id": "f53c97cd-41fa-4c99-9473-34bb9ec926b9",
   "metadata": {},
   "outputs": [
    {
     "name": "stdout",
     "output_type": "stream",
     "text": [
      "\n",
      "--- Prescribed Loads ---\n",
      "Global Node 1: Loads [1000.0, 1000.0, 0.0, 0.0, 0.0, 0.0]\n",
      "Global Node 2: Loads [1000.0, 1000.0, 0.0, 0.0, 0.0, 0.0]\n",
      "\n",
      "--- Prescribed Supports ---\n",
      "Global Node 0: Restricted DOFs ['0', '0', '0', '0', '0', '0']\n",
      "Global Node 3: Restricted DOFs ['0', '0', '0', '0', '0', '0']\n"
     ]
    }
   ],
   "source": [
    "# Summarize boundary conditions\n",
    "boundary_conditions.display_boundary_conditions()"
   ]
  },
  {
   "cell_type": "code",
   "execution_count": 12,
   "id": "4583a03a-9e00-4250-a006-f518fcc9b3f2",
   "metadata": {},
   "outputs": [
    {
     "name": "stdout",
     "output_type": "stream",
     "text": [
      "\n",
      "--- Global Force Vector ---\n",
      "[[   0.]\n",
      " [   0.]\n",
      " [   0.]\n",
      " [   0.]\n",
      " [   0.]\n",
      " [   0.]\n",
      " [1000.]\n",
      " [1000.]\n",
      " [   0.]\n",
      " [   0.]\n",
      " [   0.]\n",
      " [   0.]\n",
      " [1000.]\n",
      " [1000.]\n",
      " [   0.]\n",
      " [   0.]\n",
      " [   0.]\n",
      " [   0.]\n",
      " [   0.]\n",
      " [   0.]\n",
      " [   0.]\n",
      " [   0.]\n",
      " [   0.]\n",
      " [   0.]]\n"
     ]
    }
   ],
   "source": [
    "F_global = boundary_conditions.create_global_force_vector(structure)\n",
    "print(\"\\n--- Global Force Vector ---\")\n",
    "print(F_global)"
   ]
  },
  {
   "cell_type": "markdown",
   "id": "36593aec-8c78-472b-8d3b-06c000a2c343",
   "metadata": {},
   "source": [
    "Now, in the below cell, the geometric boundary conditions are applied, then the problem is solved."
   ]
  },
  {
   "cell_type": "code",
   "execution_count": 14,
   "id": "76ea04b7-7d29-44ad-8566-f0206bfd874b",
   "metadata": {},
   "outputs": [
    {
     "name": "stdout",
     "output_type": "stream",
     "text": [
      "\n",
      "--- Checking Reduced Stiffness Matrix (K_reduced) ---\n",
      "Shape: (12, 12) (should match number of free DOFs)\n",
      "Determinant: 5.6242e+104\n",
      "\n",
      "--- Displacements per Global Node ---\n",
      "Global Node 0:\n",
      "  ux = 0.000000e+00, uy = 0.000000e+00, uz = 0.000000e+00\n",
      "  theta_x = 0.000000e+00, theta_y = 0.000000e+00, theta_z = 0.000000e+00\n",
      "Global Node 1:\n",
      "  ux = 6.906077e-06, uy = 0.000000e+00, uz = -0.000000e+00\n",
      "  theta_x = 0.000000e+00, theta_y = -0.000000e+00, theta_z = 1.373542e-06\n",
      "Global Node 2:\n",
      "  ux = 0.000000e+00, uy = 6.906077e-06, uz = -0.000000e+00\n",
      "  theta_x = -0.000000e+00, theta_y = 0.000000e+00, theta_z = 1.396562e-06\n",
      "Global Node 3:\n",
      "  ux = 0.000000e+00, uy = 0.000000e+00, uz = 0.000000e+00\n",
      "  theta_x = 0.000000e+00, theta_y = 0.000000e+00, theta_z = 0.000000e+00\n",
      "\n",
      "--- Reaction Forces per Global Node ---\n",
      "Global Node 0:\n",
      "  Fx = -1.983425e+03, Fy = 0.000000e+00, Fz = 0.000000e+00\n",
      "  Mx = 0.000000e+00, My = 0.000000e+00, Mz = 0.000000e+00\n",
      "Global Node 1:\n",
      "  Fx = 1.000000e+03, Fy = 1.000000e+03, Fz = 0.000000e+00\n",
      "  Mx = 0.000000e+00, My = 0.000000e+00, Mz = 0.000000e+00\n",
      "Global Node 2:\n",
      "  Fx = 1.000000e+03, Fy = 1.000000e+03, Fz = 0.000000e+00\n",
      "  Mx = 0.000000e+00, My = 0.000000e+00, Mz = 0.000000e+00\n",
      "Global Node 3:\n",
      "  Fx = 0.000000e+00, Fy = -5.524862e+00, Fz = 0.000000e+00\n",
      "  Mx = 0.000000e+00, My = 0.000000e+00, Mz = 0.000000e+00\n"
     ]
    }
   ],
   "source": [
    "solver = Solver(structure, boundary_conditions)\n",
    "U_reduced = solver.solve_displacements()\n",
    "U_full, F_computed = solver.compute_reactions(U_reduced)\n",
    "solver.display_results(U_full, F_computed)"
   ]
  }
 ],
 "metadata": {
  "kernelspec": {
   "display_name": "Python [conda env:base] *",
   "language": "python",
   "name": "conda-base-py"
  },
  "language_info": {
   "codemirror_mode": {
    "name": "ipython",
    "version": 3
   },
   "file_extension": ".py",
   "mimetype": "text/x-python",
   "name": "python",
   "nbconvert_exporter": "python",
   "pygments_lexer": "ipython3",
   "version": "3.12.7"
  }
 },
 "nbformat": 4,
 "nbformat_minor": 5
}
